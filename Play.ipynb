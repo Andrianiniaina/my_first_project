{
 "cells": [
  {
   "cell_type": "code",
   "execution_count": 36,
   "metadata": {},
   "outputs": [
    {
     "name": "stdout",
     "output_type": "stream",
     "text": [
      "        Name  Age       Job  Gender\n",
      "0       John   25  Engineer    Male\n",
      "1       Jane   30   Teacher  Female\n",
      "2       Mike   35    Doctor    Male\n",
      "3      Emily   28    Lawyer  Female\n",
      "0  Joséphine   43     Nurse  Female\n"
     ]
    }
   ],
   "source": [
    "import pandas as pd\n",
    "\n",
    "data = {\n",
    "    'Name': ['John', 'Jane', 'Mike', 'Emily'],\n",
    "    'Age': [25, 30, 35, 28],\n",
    "    'Job': ['Engineer', 'Teacher', 'Doctor', 'Lawyer'],\n",
    "    'Gender': ['Male', 'Female', 'Male', 'Female']\n",
    "}\n",
    "\n",
    "data_df = pd.DataFrame(data)  # Convert data to DataFrame\n",
    "new_row = {'Name': ['Joséphine'], 'Age': [43], 'Job': ['Nurse'], 'Gender': ['Female']}\n",
    "new_row_df = pd.DataFrame(new_row)\n",
    "result = pd.concat([data_df, new_row_df])  # Concatenate DataFrames\n",
    "\n",
    "print(result)\n"
   ]
  },
  {
   "cell_type": "markdown",
   "metadata": {},
   "source": [
    "# before class"
   ]
  },
  {
   "cell_type": "code",
   "execution_count": null,
   "metadata": {},
   "outputs": [],
   "source": [
    "nb_de_chances = 3\n",
    "\n",
    "print(\"Voici notre quiz, tu as trois chances !\")\n",
    "\n",
    "if nb_de_chances > 0:\n",
    "    question1= input(\"Combien de fois la France a gagné la coupe du monde ? \")\n",
    "    while question1 != \"2\":\n",
    "        nb_de_chances -= 1\n",
    "        print(\"Dommage ! Il te reste {} chances\".format(nb_de_chances))\n",
    "        if nb_de_chances == 0:\n",
    "            print(\"Oh non ! Tu as perdu le jeu...\")\n",
    "            break\n",
    "        question1 = input(\"Combien de fois la France a gagné la coupe du monde ? \")\n",
    "\n",
    "if nb_de_chances > 0:\n",
    "    question2 = input(\"Quand a été fondé Apple ? \")\n",
    "    while question2 != \"1976\":\n",
    "        nb_de_chances -=1\n",
    "        print(\"Dommage ! Il te reste {} chances\".format(nb_de_chances))\n",
    "        if nb_de_chances == 0:\n",
    "            print(\"Oh non ! Tu as perdu le jeu...\")\n",
    "            break\n",
    "        question2 = input(\"Quand a été fondé Apple ? \")\n",
    "\n",
    "\n",
    "if nb_de_chances > 0:\n",
    "    question3 = input(\"Qui a fondé SpaceX ? \")\n",
    "    question3 = question3.lower()\n",
    "    while question3 != \"elon musk\":\n",
    "        nb_de_chances -=1\n",
    "        print(\"Dommage ! Il te reste {} chances\".format(nb_de_chances))\n",
    "        if nb_de_chances == 0:\n",
    "            print(\"Oh non ! Tu as perdu le jeu...\")\n",
    "            break\n",
    "        question3 = input(\"Qui a fondé SpaceX ? \")\n",
    "        question3 = question3.lower()\n",
    "\n",
    "if nb_de_chances > 0:\n",
    "    print(\"Bravo ! Tu as gagné le quiz !\")"
   ]
  },
  {
   "cell_type": "markdown",
   "metadata": {},
   "source": [
    "# after w/ class"
   ]
  },
  {
   "cell_type": "code",
   "execution_count": 7,
   "metadata": {},
   "outputs": [
    {
     "name": "stdout",
     "output_type": "stream",
     "text": [
      "Voici notre quiz, tu as trois chances !\n",
      "ok on passe à la question suivante\n",
      "Dommage ! Il te reste 2 chances\n",
      "Erreur, on te repose la question !\n",
      "Dommage ! Il te reste 1 chances\n",
      "Erreur, on te repose la question !\n",
      "Dommage ! Il te reste 0 chances\n",
      "Erreur, on te repose la question !\n",
      "Oh non ! Tu as perdu le jeu...\n"
     ]
    }
   ],
   "source": [
    "class Quiz:\n",
    "    def __init__(self):\n",
    "        self.nb_de_chances = 3\n",
    "        print(\"Voici notre quiz, tu as trois chances !\")\n",
    "\n",
    "    def ask_question(self, question, correct_answer):\n",
    "        while self.nb_de_chances > 0:\n",
    "            answer = input(question)\n",
    "            if answer.lower() == correct_answer.lower():\n",
    "                print(\"ok on passe à la question suivante\")\n",
    "                return True\n",
    "            else:\n",
    "                self.nb_de_chances -= 1\n",
    "                print(\"Dommage ! Il te reste {} chances\".format(self.nb_de_chances))\n",
    "                print(\"Erreur, on te repose la question !\")\n",
    "                if self.nb_de_chances == 0:\n",
    "                    print(\"Oh non ! Tu as perdu le jeu...\")\n",
    "                    return False\n",
    "\n",
    "    def start(self):\n",
    "        if self.ask_question(\"Combien de fois la France a gagné la coupe du monde ? \", \"2\"):\n",
    "            if self.ask_question(\"Quand a été fondé Apple ? \", \"1976\"):\n",
    "                if self.ask_question(\"Qui a fondé SpaceX ? \", \"elon musk\"):\n",
    "                    print(\"Bravo ! Tu as gagné le quiz !\")\n",
    "\n",
    "quiz = Quiz()\n",
    "quiz.start()\n"
   ]
  },
  {
   "cell_type": "code",
   "execution_count": null,
   "metadata": {},
   "outputs": [],
   "source": []
  }
 ],
 "metadata": {
  "kernelspec": {
   "display_name": "base",
   "language": "python",
   "name": "python3"
  },
  "language_info": {
   "codemirror_mode": {
    "name": "ipython",
    "version": 3
   },
   "file_extension": ".py",
   "mimetype": "text/x-python",
   "name": "python",
   "nbconvert_exporter": "python",
   "pygments_lexer": "ipython3",
   "version": "3.12.5"
  }
 },
 "nbformat": 4,
 "nbformat_minor": 2
}
